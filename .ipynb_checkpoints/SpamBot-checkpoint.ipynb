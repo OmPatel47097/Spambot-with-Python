{
 "cells": [
  {
   "cell_type": "code",
   "execution_count": null,
   "id": "turkish-fiber",
   "metadata": {},
   "outputs": [],
   "source": [
    "pip install pyautogui"
   ]
  },
  {
   "cell_type": "code",
   "execution_count": null,
   "id": "normal-adapter",
   "metadata": {},
   "outputs": [],
   "source": [
    "pip install webbrowser"
   ]
  },
  {
   "cell_type": "code",
   "execution_count": null,
   "id": "macro-dublin",
   "metadata": {},
   "outputs": [],
   "source": [
    "import pyautogui\n",
    "import webbrowser as wb\n",
    "import time\n",
    "wb.open(\"web.whatsapp.com\")\n",
    "time.sleep(30)\n",
    "#while True:\n",
    "for i in range(150):\n",
    "    pyautogui.press(\"H\")\n",
    "    pyautogui.press(\"I\")\n",
    "    pyautogui.press(\" \")\n",
    "    pyautogui.press(\"R\")\n",
    "    pyautogui.press(\"U\")\n",
    "    pyautogui.press(\"enter\")"
   ]
  },
  {
   "cell_type": "code",
   "execution_count": null,
   "id": "overhead-spell",
   "metadata": {},
   "outputs": [],
   "source": []
  }
 ],
 "metadata": {
  "kernelspec": {
   "display_name": "Python 3",
   "language": "python",
   "name": "python3"
  },
  "language_info": {
   "codemirror_mode": {
    "name": "ipython",
    "version": 3
   },
   "file_extension": ".py",
   "mimetype": "text/x-python",
   "name": "python",
   "nbconvert_exporter": "python",
   "pygments_lexer": "ipython3",
   "version": "3.8.3"
  }
 },
 "nbformat": 4,
 "nbformat_minor": 5
}
